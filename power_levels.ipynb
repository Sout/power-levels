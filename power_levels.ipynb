{
 "metadata": {
  "name": "power_levels"
 },
 "nbformat": 3,
 "nbformat_minor": 0,
 "worksheets": [
  {
   "cells": [
    {
     "cell_type": "code",
     "collapsed": false,
     "input": [
      "import numpy as np"
     ],
     "language": "python",
     "metadata": {},
     "outputs": [],
     "prompt_number": 2
    },
    {
     "cell_type": "markdown",
     "metadata": {},
     "source": [
      "First let's compute a reflevel using an FFT of I-only data. Next we'll do the same thing on the samples directly. Then we'll do both with  IQ data.\n",
      "\n",
      "Let's say we're applyig a -30dBm signal, and we receive the following 14-bit samples:"
     ]
    },
    {
     "cell_type": "code",
     "collapsed": false,
     "input": [
      "samples1 = np.array([180, -186, 180, -188])\n",
      "\n",
      "# scale our 14-bit [-2**13 .. 2**13-1] samples to [-1 .. 1]\n",
      "normalized1 = samples1 / float(2**13)\n",
      "# now it doesn't matter if we captured in SH or HDR or with a 16-bit sound card\n",
      "normalized1"
     ],
     "language": "python",
     "metadata": {},
     "outputs": [
      {
       "output_type": "pyout",
       "prompt_number": 68,
       "text": [
        "array([ 0.02197266, -0.02270508,  0.02197266, -0.02294922])"
       ]
      }
     ],
     "prompt_number": 68
    },
    {
     "cell_type": "code",
     "collapsed": false,
     "input": [
      "# FFT power levels, adjusted for # of samples\n",
      "power1 = np.fft.rfft(normalized1) / len(normalized1)\n",
      "# we can see our DC offset and our dominant signal\n",
      "power1"
     ],
     "language": "python",
     "metadata": {},
     "outputs": [
      {
       "output_type": "pyout",
       "prompt_number": 69,
       "text": [
        "array([-0.00042725 +0.00000000e+00j,  0.00000000 -6.10351562e-05j,\n",
        "        0.02239990 +0.00000000e+00j])"
       ]
      }
     ],
     "prompt_number": 69
    },
    {
     "cell_type": "code",
     "collapsed": false,
     "input": [
      "# convert to dB\n",
      "dB_power1 = 20 * np.log10(np.abs(power1))\n",
      "dB_power1"
     ],
     "language": "python",
     "metadata": {},
     "outputs": [
      {
       "output_type": "pyout",
       "prompt_number": 70,
       "text": [
        "array([-67.38643799, -84.28839879, -32.9950775 ])"
       ]
      }
     ],
     "prompt_number": 70
    },
    {
     "cell_type": "code",
     "collapsed": false,
     "input": [
      "# compute ref level by comparing dB to known -30 dBm signal level\n",
      "ref_level1 = -30 - np.max(dB_power1)\n",
      "ref_level1"
     ],
     "language": "python",
     "metadata": {},
     "outputs": [
      {
       "output_type": "pyout",
       "prompt_number": 71,
       "text": [
        "2.9950775008729451"
       ]
      }
     ],
     "prompt_number": 71
    },
    {
     "cell_type": "markdown",
     "metadata": {},
     "source": [
      "Power without FFT step"
     ]
    },
    {
     "cell_type": "code",
     "collapsed": false,
     "input": [
      "# correct for DC offset (required for computing power level)\n",
      "corrected2 = normalized1 - np.mean(normalized1)\n",
      "corrected2"
     ],
     "language": "python",
     "metadata": {},
     "outputs": [
      {
       "output_type": "pyout",
       "prompt_number": 72,
       "text": [
        "array([ 0.0223999 , -0.02227783,  0.0223999 , -0.02252197])"
       ]
      }
     ],
     "prompt_number": 72
    },
    {
     "cell_type": "code",
     "collapsed": false,
     "input": [
      "dB_power2 = 20 * np.log10(np.abs(corrected2))\n",
      "dB_power2"
     ],
     "language": "python",
     "metadata": {},
     "outputs": [
      {
       "output_type": "pyout",
       "prompt_number": 73,
       "text": [
        "array([-32.9950775 , -33.0425415 , -32.9950775 , -32.94787146])"
       ]
      }
     ],
     "prompt_number": 73
    },
    {
     "cell_type": "code",
     "collapsed": false,
     "input": [
      "ref_level2 = -30 - np.mean(dB_power2)\n",
      "ref_level2"
     ],
     "language": "python",
     "metadata": {},
     "outputs": [
      {
       "output_type": "pyout",
       "prompt_number": 74,
       "text": [
        "2.9951419903161636"
       ]
      }
     ],
     "prompt_number": 74
    },
    {
     "cell_type": "markdown",
     "metadata": {},
     "source": [
      "The values aren't exactly equal because the non-FFT version includes power from the noise across all frequencies, not just the bin where the signal is expected. Maybe we should treat the difference between the two measurements as another indication of how good the reflevel reading is. There would be a large difference when there are input-related spurs, for example.\n",
      "\n",
      "Here are similar calculations for complex captures:"
     ]
    },
    {
     "cell_type": "code",
     "collapsed": false,
     "input": [
      "samples3 = np.array([180, -186j, -180, 188j])\n",
      "normalized3 = samples3 / float(2**13)\n",
      "normalized3"
     ],
     "language": "python",
     "metadata": {},
     "outputs": [
      {
       "output_type": "pyout",
       "prompt_number": 80,
       "text": [
        "array([ 0.02197266+0.j        ,  0.00000000-0.02270508j,\n",
        "       -0.02197266+0.j        ,  0.00000000+0.02294922j])"
       ]
      }
     ],
     "prompt_number": 80
    },
    {
     "cell_type": "code",
     "collapsed": false,
     "input": [
      "power3 = np.fft.fft(normalized3) / len(normalized3)\n",
      "power3"
     ],
     "language": "python",
     "metadata": {},
     "outputs": [
      {
       "output_type": "pyout",
       "prompt_number": 81,
       "text": [
        "array([ 0.00000000 +6.10351562e-05j, -0.00042725 +0.00000000e+00j,\n",
        "        0.00000000 -6.10351562e-05j,  0.02239990 +0.00000000e+00j])"
       ]
      }
     ],
     "prompt_number": 81
    },
    {
     "cell_type": "code",
     "collapsed": false,
     "input": [
      "dB_power3 = 20 * np.log10(np.abs(power3))\n",
      "dB_power3"
     ],
     "language": "python",
     "metadata": {},
     "outputs": [
      {
       "output_type": "pyout",
       "prompt_number": 82,
       "text": [
        "array([-84.28839879, -67.38643799, -84.28839879, -32.9950775 ])"
       ]
      }
     ],
     "prompt_number": 82
    },
    {
     "cell_type": "code",
     "collapsed": false,
     "input": [
      "ref_level3 = -30 - np.max(dB_power3)\n",
      "ref_level3"
     ],
     "language": "python",
     "metadata": {},
     "outputs": [
      {
       "output_type": "pyout",
       "prompt_number": 83,
       "text": [
        "2.9950775008729451"
       ]
      }
     ],
     "prompt_number": 83
    },
    {
     "cell_type": "code",
     "collapsed": false,
     "input": [
      "corrected4 = normalized3 - np.mean(normalized3)\n",
      "corrected4"
     ],
     "language": "python",
     "metadata": {},
     "outputs": [
      {
       "output_type": "pyout",
       "prompt_number": 85,
       "text": [
        "array([ 0.02197266 -6.10351562e-05j,  0.00000000 -2.27661133e-02j,\n",
        "       -0.02197266 -6.10351562e-05j,  0.00000000 +2.28881836e-02j])"
       ]
      }
     ],
     "prompt_number": 85
    },
    {
     "cell_type": "code",
     "collapsed": false,
     "input": [
      "dB_power4 = 20 * np.log10(np.abs(corrected4))\n",
      "dB_power4"
     ],
     "language": "python",
     "metadata": {},
     "outputs": [
      {
       "output_type": "pyout",
       "prompt_number": 86,
       "text": [
        "array([-33.16231526, -32.85422215, -33.16231526, -32.80777343])"
       ]
      }
     ],
     "prompt_number": 86
    },
    {
     "cell_type": "code",
     "collapsed": false,
     "input": [
      "ref_level4 = -30 - np.mean(dB_power4)\n",
      "ref_level4"
     ],
     "language": "python",
     "metadata": {},
     "outputs": [
      {
       "output_type": "pyout",
       "prompt_number": 87,
       "text": [
        "2.9966565254361228"
       ]
      }
     ],
     "prompt_number": 87
    },
    {
     "cell_type": "markdown",
     "metadata": {},
     "source": [
      "The last calulcation is further off, maybe we should be using the numpy_util._calibrate_i_q method as part of this measurement."
     ]
    }
   ],
   "metadata": {}
  }
 ]
}